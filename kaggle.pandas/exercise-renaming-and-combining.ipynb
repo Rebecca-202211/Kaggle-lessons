{
 "cells": [
  {
   "cell_type": "markdown",
   "id": "52767726",
   "metadata": {
    "papermill": {
     "duration": 0.006485,
     "end_time": "2023-03-15T14:19:23.442562",
     "exception": false,
     "start_time": "2023-03-15T14:19:23.436077",
     "status": "completed"
    },
    "tags": []
   },
   "source": [
    "**This notebook is an exercise in the [Pandas](https://www.kaggle.com/learn/pandas) course.  You can reference the tutorial at [this link](https://www.kaggle.com/residentmario/renaming-and-combining).**\n",
    "\n",
    "---\n"
   ]
  },
  {
   "cell_type": "markdown",
   "id": "3dfe26d5",
   "metadata": {
    "papermill": {
     "duration": 0.00481,
     "end_time": "2023-03-15T14:19:23.452596",
     "exception": false,
     "start_time": "2023-03-15T14:19:23.447786",
     "status": "completed"
    },
    "tags": []
   },
   "source": [
    "# Introduction\n",
    "\n",
    "Run the following cell to load your data and some utility functions."
   ]
  },
  {
   "cell_type": "code",
   "execution_count": 1,
   "id": "e565cc32",
   "metadata": {
    "execution": {
     "iopub.execute_input": "2023-03-15T14:19:23.465413Z",
     "iopub.status.busy": "2023-03-15T14:19:23.464463Z",
     "iopub.status.idle": "2023-03-15T14:19:27.368578Z",
     "shell.execute_reply": "2023-03-15T14:19:27.367141Z"
    },
    "papermill": {
     "duration": 3.914968,
     "end_time": "2023-03-15T14:19:27.372519",
     "exception": false,
     "start_time": "2023-03-15T14:19:23.457551",
     "status": "completed"
    },
    "tags": []
   },
   "outputs": [
    {
     "name": "stdout",
     "output_type": "stream",
     "text": [
      "Setup complete.\n"
     ]
    }
   ],
   "source": [
    "import pandas as pd\n",
    "\n",
    "reviews = pd.read_csv(\"../input/wine-reviews/winemag-data-130k-v2.csv\", index_col=0)\n",
    "\n",
    "from learntools.core import binder; binder.bind(globals())\n",
    "from learntools.pandas.renaming_and_combining import *\n",
    "print(\"Setup complete.\")"
   ]
  },
  {
   "cell_type": "markdown",
   "id": "387de36d",
   "metadata": {
    "papermill": {
     "duration": 0.005191,
     "end_time": "2023-03-15T14:19:27.383475",
     "exception": false,
     "start_time": "2023-03-15T14:19:27.378284",
     "status": "completed"
    },
    "tags": []
   },
   "source": [
    "# Exercises\n",
    "\n",
    "View the first several lines of your data by running the cell below:"
   ]
  },
  {
   "cell_type": "code",
   "execution_count": 2,
   "id": "c9321c78",
   "metadata": {
    "execution": {
     "iopub.execute_input": "2023-03-15T14:19:27.396492Z",
     "iopub.status.busy": "2023-03-15T14:19:27.395580Z",
     "iopub.status.idle": "2023-03-15T14:19:27.424779Z",
     "shell.execute_reply": "2023-03-15T14:19:27.423409Z"
    },
    "papermill": {
     "duration": 0.038573,
     "end_time": "2023-03-15T14:19:27.427384",
     "exception": false,
     "start_time": "2023-03-15T14:19:27.388811",
     "status": "completed"
    },
    "tags": []
   },
   "outputs": [
    {
     "data": {
      "text/html": [
       "<div>\n",
       "<style scoped>\n",
       "    .dataframe tbody tr th:only-of-type {\n",
       "        vertical-align: middle;\n",
       "    }\n",
       "\n",
       "    .dataframe tbody tr th {\n",
       "        vertical-align: top;\n",
       "    }\n",
       "\n",
       "    .dataframe thead th {\n",
       "        text-align: right;\n",
       "    }\n",
       "</style>\n",
       "<table border=\"1\" class=\"dataframe\">\n",
       "  <thead>\n",
       "    <tr style=\"text-align: right;\">\n",
       "      <th></th>\n",
       "      <th>country</th>\n",
       "      <th>description</th>\n",
       "      <th>designation</th>\n",
       "      <th>points</th>\n",
       "      <th>price</th>\n",
       "      <th>province</th>\n",
       "      <th>region_1</th>\n",
       "      <th>region_2</th>\n",
       "      <th>taster_name</th>\n",
       "      <th>taster_twitter_handle</th>\n",
       "      <th>title</th>\n",
       "      <th>variety</th>\n",
       "      <th>winery</th>\n",
       "    </tr>\n",
       "  </thead>\n",
       "  <tbody>\n",
       "    <tr>\n",
       "      <th>0</th>\n",
       "      <td>Italy</td>\n",
       "      <td>Aromas include tropical fruit, broom, brimston...</td>\n",
       "      <td>Vulkà Bianco</td>\n",
       "      <td>87</td>\n",
       "      <td>NaN</td>\n",
       "      <td>Sicily &amp; Sardinia</td>\n",
       "      <td>Etna</td>\n",
       "      <td>NaN</td>\n",
       "      <td>Kerin O’Keefe</td>\n",
       "      <td>@kerinokeefe</td>\n",
       "      <td>Nicosia 2013 Vulkà Bianco  (Etna)</td>\n",
       "      <td>White Blend</td>\n",
       "      <td>Nicosia</td>\n",
       "    </tr>\n",
       "    <tr>\n",
       "      <th>1</th>\n",
       "      <td>Portugal</td>\n",
       "      <td>This is ripe and fruity, a wine that is smooth...</td>\n",
       "      <td>Avidagos</td>\n",
       "      <td>87</td>\n",
       "      <td>15.0</td>\n",
       "      <td>Douro</td>\n",
       "      <td>NaN</td>\n",
       "      <td>NaN</td>\n",
       "      <td>Roger Voss</td>\n",
       "      <td>@vossroger</td>\n",
       "      <td>Quinta dos Avidagos 2011 Avidagos Red (Douro)</td>\n",
       "      <td>Portuguese Red</td>\n",
       "      <td>Quinta dos Avidagos</td>\n",
       "    </tr>\n",
       "    <tr>\n",
       "      <th>2</th>\n",
       "      <td>US</td>\n",
       "      <td>Tart and snappy, the flavors of lime flesh and...</td>\n",
       "      <td>NaN</td>\n",
       "      <td>87</td>\n",
       "      <td>14.0</td>\n",
       "      <td>Oregon</td>\n",
       "      <td>Willamette Valley</td>\n",
       "      <td>Willamette Valley</td>\n",
       "      <td>Paul Gregutt</td>\n",
       "      <td>@paulgwine</td>\n",
       "      <td>Rainstorm 2013 Pinot Gris (Willamette Valley)</td>\n",
       "      <td>Pinot Gris</td>\n",
       "      <td>Rainstorm</td>\n",
       "    </tr>\n",
       "    <tr>\n",
       "      <th>3</th>\n",
       "      <td>US</td>\n",
       "      <td>Pineapple rind, lemon pith and orange blossom ...</td>\n",
       "      <td>Reserve Late Harvest</td>\n",
       "      <td>87</td>\n",
       "      <td>13.0</td>\n",
       "      <td>Michigan</td>\n",
       "      <td>Lake Michigan Shore</td>\n",
       "      <td>NaN</td>\n",
       "      <td>Alexander Peartree</td>\n",
       "      <td>NaN</td>\n",
       "      <td>St. Julian 2013 Reserve Late Harvest Riesling ...</td>\n",
       "      <td>Riesling</td>\n",
       "      <td>St. Julian</td>\n",
       "    </tr>\n",
       "    <tr>\n",
       "      <th>4</th>\n",
       "      <td>US</td>\n",
       "      <td>Much like the regular bottling from 2012, this...</td>\n",
       "      <td>Vintner's Reserve Wild Child Block</td>\n",
       "      <td>87</td>\n",
       "      <td>65.0</td>\n",
       "      <td>Oregon</td>\n",
       "      <td>Willamette Valley</td>\n",
       "      <td>Willamette Valley</td>\n",
       "      <td>Paul Gregutt</td>\n",
       "      <td>@paulgwine</td>\n",
       "      <td>Sweet Cheeks 2012 Vintner's Reserve Wild Child...</td>\n",
       "      <td>Pinot Noir</td>\n",
       "      <td>Sweet Cheeks</td>\n",
       "    </tr>\n",
       "  </tbody>\n",
       "</table>\n",
       "</div>"
      ],
      "text/plain": [
       "    country                                        description  \\\n",
       "0     Italy  Aromas include tropical fruit, broom, brimston...   \n",
       "1  Portugal  This is ripe and fruity, a wine that is smooth...   \n",
       "2        US  Tart and snappy, the flavors of lime flesh and...   \n",
       "3        US  Pineapple rind, lemon pith and orange blossom ...   \n",
       "4        US  Much like the regular bottling from 2012, this...   \n",
       "\n",
       "                          designation  points  price           province  \\\n",
       "0                        Vulkà Bianco      87    NaN  Sicily & Sardinia   \n",
       "1                            Avidagos      87   15.0              Douro   \n",
       "2                                 NaN      87   14.0             Oregon   \n",
       "3                Reserve Late Harvest      87   13.0           Michigan   \n",
       "4  Vintner's Reserve Wild Child Block      87   65.0             Oregon   \n",
       "\n",
       "              region_1           region_2         taster_name  \\\n",
       "0                 Etna                NaN       Kerin O’Keefe   \n",
       "1                  NaN                NaN          Roger Voss   \n",
       "2    Willamette Valley  Willamette Valley        Paul Gregutt   \n",
       "3  Lake Michigan Shore                NaN  Alexander Peartree   \n",
       "4    Willamette Valley  Willamette Valley        Paul Gregutt   \n",
       "\n",
       "  taster_twitter_handle                                              title  \\\n",
       "0          @kerinokeefe                  Nicosia 2013 Vulkà Bianco  (Etna)   \n",
       "1            @vossroger      Quinta dos Avidagos 2011 Avidagos Red (Douro)   \n",
       "2           @paulgwine       Rainstorm 2013 Pinot Gris (Willamette Valley)   \n",
       "3                   NaN  St. Julian 2013 Reserve Late Harvest Riesling ...   \n",
       "4           @paulgwine   Sweet Cheeks 2012 Vintner's Reserve Wild Child...   \n",
       "\n",
       "          variety               winery  \n",
       "0     White Blend              Nicosia  \n",
       "1  Portuguese Red  Quinta dos Avidagos  \n",
       "2      Pinot Gris            Rainstorm  \n",
       "3        Riesling           St. Julian  \n",
       "4      Pinot Noir         Sweet Cheeks  "
      ]
     },
     "execution_count": 2,
     "metadata": {},
     "output_type": "execute_result"
    }
   ],
   "source": [
    "reviews.head()"
   ]
  },
  {
   "cell_type": "markdown",
   "id": "9275e366",
   "metadata": {
    "papermill": {
     "duration": 0.005416,
     "end_time": "2023-03-15T14:19:27.438635",
     "exception": false,
     "start_time": "2023-03-15T14:19:27.433219",
     "status": "completed"
    },
    "tags": []
   },
   "source": [
    "## 1.\n",
    "`region_1` and `region_2` are pretty uninformative names for locale columns in the dataset. Create a copy of `reviews` with these columns renamed to `region` and `locale`, respectively."
   ]
  },
  {
   "cell_type": "code",
   "execution_count": 3,
   "id": "34796f49",
   "metadata": {
    "execution": {
     "iopub.execute_input": "2023-03-15T14:19:27.452691Z",
     "iopub.status.busy": "2023-03-15T14:19:27.451448Z",
     "iopub.status.idle": "2023-03-15T14:19:27.526110Z",
     "shell.execute_reply": "2023-03-15T14:19:27.524901Z"
    },
    "papermill": {
     "duration": 0.084148,
     "end_time": "2023-03-15T14:19:27.528510",
     "exception": false,
     "start_time": "2023-03-15T14:19:27.444362",
     "status": "completed"
    },
    "tags": []
   },
   "outputs": [
    {
     "data": {
      "application/javascript": [
       "parent.postMessage({\"jupyterEvent\": \"custom.exercise_interaction\", \"data\": {\"outcomeType\": 1, \"valueTowardsCompletion\": 0.25, \"interactionType\": 1, \"questionType\": 1, \"questionId\": \"1_RenameCols\", \"learnToolsVersion\": \"0.3.4\", \"failureMessage\": \"\", \"exceptionClass\": \"\", \"trace\": \"\"}}, \"*\")"
      ],
      "text/plain": [
       "<IPython.core.display.Javascript object>"
      ]
     },
     "metadata": {},
     "output_type": "display_data"
    },
    {
     "data": {
      "text/markdown": [
       "<span style=\"color:#33cc33\">Correct</span>"
      ],
      "text/plain": [
       "Correct"
      ]
     },
     "metadata": {},
     "output_type": "display_data"
    }
   ],
   "source": [
    "# Your code here\n",
    "renamed = reviews.copy().rename(columns = {'region_1':'region','region_2':'locale'})\n",
    "\n",
    "# Check your answer\n",
    "q1.check()"
   ]
  },
  {
   "cell_type": "code",
   "execution_count": 4,
   "id": "21c7dd7d",
   "metadata": {
    "execution": {
     "iopub.execute_input": "2023-03-15T14:19:27.543077Z",
     "iopub.status.busy": "2023-03-15T14:19:27.542259Z",
     "iopub.status.idle": "2023-03-15T14:19:27.547643Z",
     "shell.execute_reply": "2023-03-15T14:19:27.546484Z"
    },
    "papermill": {
     "duration": 0.0152,
     "end_time": "2023-03-15T14:19:27.549851",
     "exception": false,
     "start_time": "2023-03-15T14:19:27.534651",
     "status": "completed"
    },
    "tags": []
   },
   "outputs": [],
   "source": [
    "#q1.hint()\n",
    "#q1.solution()"
   ]
  },
  {
   "cell_type": "code",
   "execution_count": 5,
   "id": "df857538",
   "metadata": {
    "execution": {
     "iopub.execute_input": "2023-03-15T14:19:27.564517Z",
     "iopub.status.busy": "2023-03-15T14:19:27.563364Z",
     "iopub.status.idle": "2023-03-15T14:19:27.571278Z",
     "shell.execute_reply": "2023-03-15T14:19:27.570107Z"
    },
    "papermill": {
     "duration": 0.017756,
     "end_time": "2023-03-15T14:19:27.573732",
     "exception": false,
     "start_time": "2023-03-15T14:19:27.555976",
     "status": "completed"
    },
    "tags": []
   },
   "outputs": [
    {
     "data": {
      "text/plain": [
       "Index(['country', 'description', 'designation', 'points', 'price', 'province',\n",
       "       'region_1', 'region_2', 'taster_name', 'taster_twitter_handle', 'title',\n",
       "       'variety', 'winery'],\n",
       "      dtype='object')"
      ]
     },
     "execution_count": 5,
     "metadata": {},
     "output_type": "execute_result"
    }
   ],
   "source": [
    "reviews.columns"
   ]
  },
  {
   "cell_type": "markdown",
   "id": "f0d794f9",
   "metadata": {
    "papermill": {
     "duration": 0.005958,
     "end_time": "2023-03-15T14:19:27.586083",
     "exception": false,
     "start_time": "2023-03-15T14:19:27.580125",
     "status": "completed"
    },
    "tags": []
   },
   "source": [
    "## 2.\n",
    "Set the index name in the dataset to `wines`."
   ]
  },
  {
   "cell_type": "code",
   "execution_count": 6,
   "id": "9081e56b",
   "metadata": {
    "execution": {
     "iopub.execute_input": "2023-03-15T14:19:27.601521Z",
     "iopub.status.busy": "2023-03-15T14:19:27.601114Z",
     "iopub.status.idle": "2023-03-15T14:19:27.666554Z",
     "shell.execute_reply": "2023-03-15T14:19:27.665496Z"
    },
    "papermill": {
     "duration": 0.076771,
     "end_time": "2023-03-15T14:19:27.669018",
     "exception": false,
     "start_time": "2023-03-15T14:19:27.592247",
     "status": "completed"
    },
    "tags": []
   },
   "outputs": [
    {
     "data": {
      "application/javascript": [
       "parent.postMessage({\"jupyterEvent\": \"custom.exercise_interaction\", \"data\": {\"outcomeType\": 1, \"valueTowardsCompletion\": 0.25, \"interactionType\": 1, \"questionType\": 1, \"questionId\": \"2_RenameIndex\", \"learnToolsVersion\": \"0.3.4\", \"failureMessage\": \"\", \"exceptionClass\": \"\", \"trace\": \"\"}}, \"*\")"
      ],
      "text/plain": [
       "<IPython.core.display.Javascript object>"
      ]
     },
     "metadata": {},
     "output_type": "display_data"
    },
    {
     "data": {
      "text/markdown": [
       "<span style=\"color:#33cc33\">Correct</span>"
      ],
      "text/plain": [
       "Correct"
      ]
     },
     "metadata": {},
     "output_type": "display_data"
    }
   ],
   "source": [
    "reindexed = reviews.copy().rename_axis('wines',axis = 'rows')\n",
    "# Check your answer\n",
    "q2.check()"
   ]
  },
  {
   "cell_type": "code",
   "execution_count": 7,
   "id": "202196e5",
   "metadata": {
    "execution": {
     "iopub.execute_input": "2023-03-15T14:19:27.684001Z",
     "iopub.status.busy": "2023-03-15T14:19:27.683215Z",
     "iopub.status.idle": "2023-03-15T14:19:27.687429Z",
     "shell.execute_reply": "2023-03-15T14:19:27.686628Z"
    },
    "papermill": {
     "duration": 0.013888,
     "end_time": "2023-03-15T14:19:27.689447",
     "exception": false,
     "start_time": "2023-03-15T14:19:27.675559",
     "status": "completed"
    },
    "tags": []
   },
   "outputs": [],
   "source": [
    "#q2.hint()\n",
    "#q2.solution()"
   ]
  },
  {
   "cell_type": "markdown",
   "id": "bb5eab5b",
   "metadata": {
    "papermill": {
     "duration": 0.006001,
     "end_time": "2023-03-15T14:19:27.702056",
     "exception": false,
     "start_time": "2023-03-15T14:19:27.696055",
     "status": "completed"
    },
    "tags": []
   },
   "source": [
    "## 3.\n",
    "The [Things on Reddit](https://www.kaggle.com/residentmario/things-on-reddit/data) dataset includes product links from a selection of top-ranked forums (\"subreddits\") on reddit.com. Run the cell below to load a dataframe of products mentioned on the */r/gaming* subreddit and another dataframe for products mentioned on the *r//movies* subreddit."
   ]
  },
  {
   "cell_type": "code",
   "execution_count": 8,
   "id": "c5e1e26a",
   "metadata": {
    "execution": {
     "iopub.execute_input": "2023-03-15T14:19:27.716534Z",
     "iopub.status.busy": "2023-03-15T14:19:27.716141Z",
     "iopub.status.idle": "2023-03-15T14:19:27.730344Z",
     "shell.execute_reply": "2023-03-15T14:19:27.729103Z"
    },
    "papermill": {
     "duration": 0.024502,
     "end_time": "2023-03-15T14:19:27.732859",
     "exception": false,
     "start_time": "2023-03-15T14:19:27.708357",
     "status": "completed"
    },
    "tags": []
   },
   "outputs": [],
   "source": [
    "gaming_products = pd.read_csv(\"../input/things-on-reddit/top-things/top-things/reddits/g/gaming.csv\")\n",
    "gaming_products['subreddit'] = \"r/gaming\"\n",
    "movie_products = pd.read_csv(\"../input/things-on-reddit/top-things/top-things/reddits/m/movies.csv\")\n",
    "movie_products['subreddit'] = \"r/movies\""
   ]
  },
  {
   "cell_type": "markdown",
   "id": "9d7f4e53",
   "metadata": {
    "papermill": {
     "duration": 0.006318,
     "end_time": "2023-03-15T14:19:27.745802",
     "exception": false,
     "start_time": "2023-03-15T14:19:27.739484",
     "status": "completed"
    },
    "tags": []
   },
   "source": [
    "Create a `DataFrame` of products mentioned on *either* subreddit."
   ]
  },
  {
   "cell_type": "code",
   "execution_count": 9,
   "id": "303eceec",
   "metadata": {
    "execution": {
     "iopub.execute_input": "2023-03-15T14:19:27.760726Z",
     "iopub.status.busy": "2023-03-15T14:19:27.760274Z",
     "iopub.status.idle": "2023-03-15T14:19:27.776004Z",
     "shell.execute_reply": "2023-03-15T14:19:27.774926Z"
    },
    "papermill": {
     "duration": 0.025863,
     "end_time": "2023-03-15T14:19:27.778154",
     "exception": false,
     "start_time": "2023-03-15T14:19:27.752291",
     "status": "completed"
    },
    "tags": []
   },
   "outputs": [
    {
     "data": {
      "application/javascript": [
       "parent.postMessage({\"jupyterEvent\": \"custom.exercise_interaction\", \"data\": {\"outcomeType\": 1, \"valueTowardsCompletion\": 0.25, \"interactionType\": 1, \"questionType\": 2, \"questionId\": \"3_ConcatReddit\", \"learnToolsVersion\": \"0.3.4\", \"failureMessage\": \"\", \"exceptionClass\": \"\", \"trace\": \"\"}}, \"*\")"
      ],
      "text/plain": [
       "<IPython.core.display.Javascript object>"
      ]
     },
     "metadata": {},
     "output_type": "display_data"
    },
    {
     "data": {
      "text/markdown": [
       "<span style=\"color:#33cc33\">Correct</span>"
      ],
      "text/plain": [
       "Correct"
      ]
     },
     "metadata": {},
     "output_type": "display_data"
    }
   ],
   "source": [
    "combined_products =pd.concat([gaming_products, movie_products])\n",
    "\n",
    "# Check your answer\n",
    "q3.check()"
   ]
  },
  {
   "cell_type": "code",
   "execution_count": 10,
   "id": "fe1fa4c9",
   "metadata": {
    "execution": {
     "iopub.execute_input": "2023-03-15T14:19:27.792986Z",
     "iopub.status.busy": "2023-03-15T14:19:27.792612Z",
     "iopub.status.idle": "2023-03-15T14:19:27.796951Z",
     "shell.execute_reply": "2023-03-15T14:19:27.795783Z"
    },
    "papermill": {
     "duration": 0.014419,
     "end_time": "2023-03-15T14:19:27.799130",
     "exception": false,
     "start_time": "2023-03-15T14:19:27.784711",
     "status": "completed"
    },
    "tags": []
   },
   "outputs": [],
   "source": [
    "#q3.hint()\n",
    "# q3.solution()"
   ]
  },
  {
   "cell_type": "markdown",
   "id": "29eac291",
   "metadata": {
    "papermill": {
     "duration": 0.006276,
     "end_time": "2023-03-15T14:19:27.812003",
     "exception": false,
     "start_time": "2023-03-15T14:19:27.805727",
     "status": "completed"
    },
    "tags": []
   },
   "source": [
    "## 4.\n",
    "The [Powerlifting Database](https://www.kaggle.com/open-powerlifting/powerlifting-database) dataset on Kaggle includes one CSV table for powerlifting meets and a separate one for powerlifting competitors. Run the cell below to load these datasets into dataframes:"
   ]
  },
  {
   "cell_type": "code",
   "execution_count": 11,
   "id": "a4011191",
   "metadata": {
    "execution": {
     "iopub.execute_input": "2023-03-15T14:19:27.827018Z",
     "iopub.status.busy": "2023-03-15T14:19:27.826628Z",
     "iopub.status.idle": "2023-03-15T14:19:28.552968Z",
     "shell.execute_reply": "2023-03-15T14:19:28.551537Z"
    },
    "papermill": {
     "duration": 0.737402,
     "end_time": "2023-03-15T14:19:28.555985",
     "exception": false,
     "start_time": "2023-03-15T14:19:27.818583",
     "status": "completed"
    },
    "tags": []
   },
   "outputs": [],
   "source": [
    "powerlifting_meets = pd.read_csv(\"../input/powerlifting-database/meets.csv\")\n",
    "powerlifting_competitors = pd.read_csv(\"../input/powerlifting-database/openpowerlifting.csv\")"
   ]
  },
  {
   "cell_type": "markdown",
   "id": "050e7d96",
   "metadata": {
    "papermill": {
     "duration": 0.006379,
     "end_time": "2023-03-15T14:19:28.569512",
     "exception": false,
     "start_time": "2023-03-15T14:19:28.563133",
     "status": "completed"
    },
    "tags": []
   },
   "source": [
    "Both tables include references to a `MeetID`, a unique key for each meet (competition) included in the database. Using this, generate a dataset combining the two tables into one."
   ]
  },
  {
   "cell_type": "code",
   "execution_count": 12,
   "id": "122a20a0",
   "metadata": {
    "execution": {
     "iopub.execute_input": "2023-03-15T14:19:28.585052Z",
     "iopub.status.busy": "2023-03-15T14:19:28.584636Z",
     "iopub.status.idle": "2023-03-15T14:19:29.586738Z",
     "shell.execute_reply": "2023-03-15T14:19:29.585659Z"
    },
    "papermill": {
     "duration": 1.013283,
     "end_time": "2023-03-15T14:19:29.589482",
     "exception": false,
     "start_time": "2023-03-15T14:19:28.576199",
     "status": "completed"
    },
    "tags": []
   },
   "outputs": [
    {
     "data": {
      "application/javascript": [
       "parent.postMessage({\"jupyterEvent\": \"custom.exercise_interaction\", \"data\": {\"outcomeType\": 1, \"valueTowardsCompletion\": 0.25, \"interactionType\": 1, \"questionType\": 2, \"questionId\": \"4_JoinLifting\", \"learnToolsVersion\": \"0.3.4\", \"failureMessage\": \"\", \"exceptionClass\": \"\", \"trace\": \"\"}}, \"*\")"
      ],
      "text/plain": [
       "<IPython.core.display.Javascript object>"
      ]
     },
     "metadata": {},
     "output_type": "display_data"
    },
    {
     "data": {
      "text/markdown": [
       "<span style=\"color:#33cc33\">Correct</span>"
      ],
      "text/plain": [
       "Correct"
      ]
     },
     "metadata": {},
     "output_type": "display_data"
    }
   ],
   "source": [
    "powerlifting_combined = powerlifting_meets.set_index('MeetID').join(powerlifting_competitors.set_index('MeetID'))\n",
    "# Check your answer\n",
    "q4.check()"
   ]
  },
  {
   "cell_type": "code",
   "execution_count": 13,
   "id": "a71c8725",
   "metadata": {
    "execution": {
     "iopub.execute_input": "2023-03-15T14:19:29.606214Z",
     "iopub.status.busy": "2023-03-15T14:19:29.605361Z",
     "iopub.status.idle": "2023-03-15T14:19:29.610897Z",
     "shell.execute_reply": "2023-03-15T14:19:29.609467Z"
    },
    "papermill": {
     "duration": 0.016796,
     "end_time": "2023-03-15T14:19:29.613521",
     "exception": false,
     "start_time": "2023-03-15T14:19:29.596725",
     "status": "completed"
    },
    "tags": []
   },
   "outputs": [],
   "source": [
    "#q4.hint()\n",
    "# q4.solution()"
   ]
  },
  {
   "cell_type": "markdown",
   "id": "63200773",
   "metadata": {
    "papermill": {
     "duration": 0.006933,
     "end_time": "2023-03-15T14:19:29.627606",
     "exception": false,
     "start_time": "2023-03-15T14:19:29.620673",
     "status": "completed"
    },
    "tags": []
   },
   "source": [
    "# Congratulations!\n",
    "\n",
    "You've finished the Pandas micro-course.  Many data scientists feel efficiency with Pandas is the most useful and practical skill they have, because it allows you to progress quickly in any project you have.\n",
    "\n",
    "If you'd like to apply your new skills to examining geospatial data, you're encouraged to check out our **[Geospatial Analysis](https://www.kaggle.com/learn/geospatial-analysis)** micro-course.\n",
    "\n",
    "You can also take advantage of your Pandas skills by entering a **[Kaggle Competition](https://www.kaggle.com/competitions)** or by answering a question you find interesting using **[Kaggle Datasets](https://www.kaggle.com/datasets)**."
   ]
  },
  {
   "cell_type": "markdown",
   "id": "70bb4f6f",
   "metadata": {
    "papermill": {
     "duration": 0.006714,
     "end_time": "2023-03-15T14:19:29.641387",
     "exception": false,
     "start_time": "2023-03-15T14:19:29.634673",
     "status": "completed"
    },
    "tags": []
   },
   "source": [
    "---\n",
    "\n",
    "\n",
    "\n",
    "\n",
    "*Have questions or comments? Visit the [course discussion forum](https://www.kaggle.com/learn/pandas/discussion) to chat with other learners.*"
   ]
  }
 ],
 "metadata": {
  "kernelspec": {
   "display_name": "Python 3",
   "language": "python",
   "name": "python3"
  },
  "language_info": {
   "codemirror_mode": {
    "name": "ipython",
    "version": 3
   },
   "file_extension": ".py",
   "mimetype": "text/x-python",
   "name": "python",
   "nbconvert_exporter": "python",
   "pygments_lexer": "ipython3",
   "version": "3.7.12"
  },
  "papermill": {
   "default_parameters": {},
   "duration": 16.384577,
   "end_time": "2023-03-15T14:19:30.472903",
   "environment_variables": {},
   "exception": null,
   "input_path": "__notebook__.ipynb",
   "output_path": "__notebook__.ipynb",
   "parameters": {},
   "start_time": "2023-03-15T14:19:14.088326",
   "version": "2.4.0"
  }
 },
 "nbformat": 4,
 "nbformat_minor": 5
}
