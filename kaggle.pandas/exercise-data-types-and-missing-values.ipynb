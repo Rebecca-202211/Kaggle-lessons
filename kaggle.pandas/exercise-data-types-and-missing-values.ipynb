{
 "cells": [
  {
   "cell_type": "markdown",
   "id": "3cbeaa46",
   "metadata": {
    "papermill": {
     "duration": 0.006419,
     "end_time": "2023-03-15T13:06:36.256318",
     "exception": false,
     "start_time": "2023-03-15T13:06:36.249899",
     "status": "completed"
    },
    "tags": []
   },
   "source": [
    "**This notebook is an exercise in the [Pandas](https://www.kaggle.com/learn/pandas) course.  You can reference the tutorial at [this link](https://www.kaggle.com/residentmario/data-types-and-missing-values).**\n",
    "\n",
    "---\n"
   ]
  },
  {
   "cell_type": "markdown",
   "id": "dbff1f6f",
   "metadata": {
    "papermill": {
     "duration": 0.004799,
     "end_time": "2023-03-15T13:06:36.266807",
     "exception": false,
     "start_time": "2023-03-15T13:06:36.262008",
     "status": "completed"
    },
    "tags": []
   },
   "source": [
    "# Introduction\n",
    "\n",
    "Run the following cell to load your data and some utility functions."
   ]
  },
  {
   "cell_type": "code",
   "execution_count": 1,
   "id": "a7e823e3",
   "metadata": {
    "execution": {
     "iopub.execute_input": "2023-03-15T13:06:36.280144Z",
     "iopub.status.busy": "2023-03-15T13:06:36.279345Z",
     "iopub.status.idle": "2023-03-15T13:06:39.189784Z",
     "shell.execute_reply": "2023-03-15T13:06:39.188337Z"
    },
    "papermill": {
     "duration": 2.921522,
     "end_time": "2023-03-15T13:06:39.193755",
     "exception": false,
     "start_time": "2023-03-15T13:06:36.272233",
     "status": "completed"
    },
    "tags": []
   },
   "outputs": [
    {
     "name": "stdout",
     "output_type": "stream",
     "text": [
      "Setup complete.\n"
     ]
    }
   ],
   "source": [
    "import pandas as pd\n",
    "\n",
    "reviews = pd.read_csv(\"../input/wine-reviews/winemag-data-130k-v2.csv\", index_col=0)\n",
    "\n",
    "from learntools.core import binder; binder.bind(globals())\n",
    "from learntools.pandas.data_types_and_missing_data import *\n",
    "print(\"Setup complete.\")"
   ]
  },
  {
   "cell_type": "markdown",
   "id": "41f6f7a9",
   "metadata": {
    "papermill": {
     "duration": 0.004327,
     "end_time": "2023-03-15T13:06:39.203225",
     "exception": false,
     "start_time": "2023-03-15T13:06:39.198898",
     "status": "completed"
    },
    "tags": []
   },
   "source": [
    "# Exercises"
   ]
  },
  {
   "cell_type": "markdown",
   "id": "1b0dda90",
   "metadata": {
    "papermill": {
     "duration": 0.004189,
     "end_time": "2023-03-15T13:06:39.212133",
     "exception": false,
     "start_time": "2023-03-15T13:06:39.207944",
     "status": "completed"
    },
    "tags": []
   },
   "source": [
    "## 1. \n",
    "What is the data type of the `points` column in the dataset?"
   ]
  },
  {
   "cell_type": "code",
   "execution_count": 2,
   "id": "3600dc54",
   "metadata": {
    "execution": {
     "iopub.execute_input": "2023-03-15T13:06:39.223179Z",
     "iopub.status.busy": "2023-03-15T13:06:39.222753Z",
     "iopub.status.idle": "2023-03-15T13:06:39.238861Z",
     "shell.execute_reply": "2023-03-15T13:06:39.237323Z"
    },
    "papermill": {
     "duration": 0.025003,
     "end_time": "2023-03-15T13:06:39.241652",
     "exception": false,
     "start_time": "2023-03-15T13:06:39.216649",
     "status": "completed"
    },
    "tags": []
   },
   "outputs": [
    {
     "data": {
      "application/javascript": [
       "parent.postMessage({\"jupyterEvent\": \"custom.exercise_interaction\", \"data\": {\"outcomeType\": 1, \"valueTowardsCompletion\": 0.25, \"interactionType\": 1, \"questionType\": 1, \"questionId\": \"1_PointsDtype\", \"learnToolsVersion\": \"0.3.4\", \"failureMessage\": \"\", \"exceptionClass\": \"\", \"trace\": \"\"}}, \"*\")"
      ],
      "text/plain": [
       "<IPython.core.display.Javascript object>"
      ]
     },
     "metadata": {},
     "output_type": "display_data"
    },
    {
     "data": {
      "text/markdown": [
       "<span style=\"color:#33cc33\">Correct</span>"
      ],
      "text/plain": [
       "Correct"
      ]
     },
     "metadata": {},
     "output_type": "display_data"
    }
   ],
   "source": [
    "# Your code here\n",
    "dtype = reviews.points.dtype\n",
    "\n",
    "# Check your answer\n",
    "q1.check()"
   ]
  },
  {
   "cell_type": "code",
   "execution_count": 3,
   "id": "494bca07",
   "metadata": {
    "execution": {
     "iopub.execute_input": "2023-03-15T13:06:39.253540Z",
     "iopub.status.busy": "2023-03-15T13:06:39.253092Z",
     "iopub.status.idle": "2023-03-15T13:06:39.258805Z",
     "shell.execute_reply": "2023-03-15T13:06:39.256851Z"
    },
    "papermill": {
     "duration": 0.016529,
     "end_time": "2023-03-15T13:06:39.263276",
     "exception": false,
     "start_time": "2023-03-15T13:06:39.246747",
     "status": "completed"
    },
    "tags": []
   },
   "outputs": [],
   "source": [
    "#q1.hint()\n",
    "#q1.solution()"
   ]
  },
  {
   "cell_type": "markdown",
   "id": "98edbbff",
   "metadata": {
    "papermill": {
     "duration": 0.005092,
     "end_time": "2023-03-15T13:06:39.275470",
     "exception": false,
     "start_time": "2023-03-15T13:06:39.270378",
     "status": "completed"
    },
    "tags": []
   },
   "source": [
    "## 2. \n",
    "Create a Series from entries in the `points` column, but convert the entries to strings. Hint: strings are `str` in native Python."
   ]
  },
  {
   "cell_type": "code",
   "execution_count": 4,
   "id": "c033c43f",
   "metadata": {
    "execution": {
     "iopub.execute_input": "2023-03-15T13:06:39.287178Z",
     "iopub.status.busy": "2023-03-15T13:06:39.286722Z",
     "iopub.status.idle": "2023-03-15T13:06:39.378691Z",
     "shell.execute_reply": "2023-03-15T13:06:39.377354Z"
    },
    "papermill": {
     "duration": 0.100824,
     "end_time": "2023-03-15T13:06:39.381350",
     "exception": false,
     "start_time": "2023-03-15T13:06:39.280526",
     "status": "completed"
    },
    "tags": []
   },
   "outputs": [
    {
     "data": {
      "application/javascript": [
       "parent.postMessage({\"jupyterEvent\": \"custom.exercise_interaction\", \"data\": {\"outcomeType\": 1, \"valueTowardsCompletion\": 0.25, \"interactionType\": 1, \"questionType\": 1, \"questionId\": \"2_StrPoints\", \"learnToolsVersion\": \"0.3.4\", \"failureMessage\": \"\", \"exceptionClass\": \"\", \"trace\": \"\"}}, \"*\")"
      ],
      "text/plain": [
       "<IPython.core.display.Javascript object>"
      ]
     },
     "metadata": {},
     "output_type": "display_data"
    },
    {
     "data": {
      "text/markdown": [
       "<span style=\"color:#33cc33\">Correct</span>"
      ],
      "text/plain": [
       "Correct"
      ]
     },
     "metadata": {},
     "output_type": "display_data"
    }
   ],
   "source": [
    "point_strings = reviews.points.astype('str')\n",
    "\n",
    "# Check your answer\n",
    "q2.check()"
   ]
  },
  {
   "cell_type": "code",
   "execution_count": 5,
   "id": "bbaef459",
   "metadata": {
    "execution": {
     "iopub.execute_input": "2023-03-15T13:06:39.393635Z",
     "iopub.status.busy": "2023-03-15T13:06:39.393134Z",
     "iopub.status.idle": "2023-03-15T13:06:39.398755Z",
     "shell.execute_reply": "2023-03-15T13:06:39.397335Z"
    },
    "papermill": {
     "duration": 0.015089,
     "end_time": "2023-03-15T13:06:39.401634",
     "exception": false,
     "start_time": "2023-03-15T13:06:39.386545",
     "status": "completed"
    },
    "tags": []
   },
   "outputs": [],
   "source": [
    "#q2.hint()\n",
    "#q2.solution()"
   ]
  },
  {
   "cell_type": "markdown",
   "id": "dad2cb51",
   "metadata": {
    "papermill": {
     "duration": 0.004802,
     "end_time": "2023-03-15T13:06:39.411765",
     "exception": false,
     "start_time": "2023-03-15T13:06:39.406963",
     "status": "completed"
    },
    "tags": []
   },
   "source": [
    "## 3.\n",
    "Sometimes the price column is null. How many reviews in the dataset are missing a price?"
   ]
  },
  {
   "cell_type": "code",
   "execution_count": 6,
   "id": "611bc07e",
   "metadata": {
    "execution": {
     "iopub.execute_input": "2023-03-15T13:06:39.423816Z",
     "iopub.status.busy": "2023-03-15T13:06:39.423333Z",
     "iopub.status.idle": "2023-03-15T13:06:39.443466Z",
     "shell.execute_reply": "2023-03-15T13:06:39.442135Z"
    },
    "papermill": {
     "duration": 0.029204,
     "end_time": "2023-03-15T13:06:39.446056",
     "exception": false,
     "start_time": "2023-03-15T13:06:39.416852",
     "status": "completed"
    },
    "tags": []
   },
   "outputs": [
    {
     "data": {
      "application/javascript": [
       "parent.postMessage({\"jupyterEvent\": \"custom.exercise_interaction\", \"data\": {\"outcomeType\": 1, \"valueTowardsCompletion\": 0.25, \"interactionType\": 1, \"questionType\": 1, \"questionId\": \"3_CountMissingPrices\", \"learnToolsVersion\": \"0.3.4\", \"failureMessage\": \"\", \"exceptionClass\": \"\", \"trace\": \"\"}}, \"*\")"
      ],
      "text/plain": [
       "<IPython.core.display.Javascript object>"
      ]
     },
     "metadata": {},
     "output_type": "display_data"
    },
    {
     "data": {
      "text/markdown": [
       "<span style=\"color:#33cc33\">Correct</span>"
      ],
      "text/plain": [
       "Correct"
      ]
     },
     "metadata": {},
     "output_type": "display_data"
    }
   ],
   "source": [
    "# n_missing_prices = pd.isnull(reviews.price).sum()\n",
    "n_missing_prices = len(reviews[pd.isnull(reviews.price)])\n",
    "# Check your answer\n",
    "q3.check()"
   ]
  },
  {
   "cell_type": "code",
   "execution_count": 7,
   "id": "47d44ece",
   "metadata": {
    "execution": {
     "iopub.execute_input": "2023-03-15T13:06:39.459728Z",
     "iopub.status.busy": "2023-03-15T13:06:39.458427Z",
     "iopub.status.idle": "2023-03-15T13:06:39.464562Z",
     "shell.execute_reply": "2023-03-15T13:06:39.463271Z"
    },
    "papermill": {
     "duration": 0.015799,
     "end_time": "2023-03-15T13:06:39.467263",
     "exception": false,
     "start_time": "2023-03-15T13:06:39.451464",
     "status": "completed"
    },
    "tags": []
   },
   "outputs": [],
   "source": [
    "#q3.hint()\n",
    "# q3.solution()"
   ]
  },
  {
   "cell_type": "markdown",
   "id": "1307ba22",
   "metadata": {
    "papermill": {
     "duration": 0.0051,
     "end_time": "2023-03-15T13:06:39.477872",
     "exception": false,
     "start_time": "2023-03-15T13:06:39.472772",
     "status": "completed"
    },
    "tags": []
   },
   "source": [
    "## 4.\n",
    "What are the most common wine-producing regions? Create a Series counting the number of times each value occurs in the `region_1` field. This field is often missing data, so replace missing values with `Unknown`. Sort in descending order.  Your output should look something like this:\n",
    "\n",
    "```\n",
    "Unknown                    21247\n",
    "Napa Valley                 4480\n",
    "                           ...  \n",
    "Bardolino Superiore            1\n",
    "Primitivo del Tarantino        1\n",
    "Name: region_1, Length: 1230, dtype: int64\n",
    "```"
   ]
  },
  {
   "cell_type": "code",
   "execution_count": 8,
   "id": "25deb610",
   "metadata": {
    "execution": {
     "iopub.execute_input": "2023-03-15T13:06:39.491026Z",
     "iopub.status.busy": "2023-03-15T13:06:39.490567Z",
     "iopub.status.idle": "2023-03-15T13:06:39.538593Z",
     "shell.execute_reply": "2023-03-15T13:06:39.537156Z"
    },
    "papermill": {
     "duration": 0.058324,
     "end_time": "2023-03-15T13:06:39.541624",
     "exception": false,
     "start_time": "2023-03-15T13:06:39.483300",
     "status": "completed"
    },
    "tags": []
   },
   "outputs": [
    {
     "data": {
      "application/javascript": [
       "parent.postMessage({\"jupyterEvent\": \"custom.exercise_interaction\", \"data\": {\"outcomeType\": 1, \"valueTowardsCompletion\": 0.25, \"interactionType\": 1, \"questionType\": 2, \"questionId\": \"4_ReviewsPerRegion\", \"learnToolsVersion\": \"0.3.4\", \"failureMessage\": \"\", \"exceptionClass\": \"\", \"trace\": \"\"}}, \"*\")"
      ],
      "text/plain": [
       "<IPython.core.display.Javascript object>"
      ]
     },
     "metadata": {},
     "output_type": "display_data"
    },
    {
     "data": {
      "text/markdown": [
       "<span style=\"color:#33cc33\">Correct</span>"
      ],
      "text/plain": [
       "Correct"
      ]
     },
     "metadata": {},
     "output_type": "display_data"
    }
   ],
   "source": [
    "reviews1 = pd.Series(reviews.region_1.fillna('Unknown').value_counts())\n",
    "reviews_per_region = reviews1.sort_values(ascending = False)\n",
    "# reviews_per_region = reviews.sort_values(by = , ascending = False)\n",
    "# Check your answer\n",
    "q4.check()"
   ]
  },
  {
   "cell_type": "code",
   "execution_count": 9,
   "id": "b8e5d4f2",
   "metadata": {
    "execution": {
     "iopub.execute_input": "2023-03-15T13:06:39.555171Z",
     "iopub.status.busy": "2023-03-15T13:06:39.554712Z",
     "iopub.status.idle": "2023-03-15T13:06:39.560571Z",
     "shell.execute_reply": "2023-03-15T13:06:39.558524Z"
    },
    "papermill": {
     "duration": 0.016557,
     "end_time": "2023-03-15T13:06:39.563978",
     "exception": false,
     "start_time": "2023-03-15T13:06:39.547421",
     "status": "completed"
    },
    "tags": []
   },
   "outputs": [],
   "source": [
    "#q4.hint()\n",
    "# q4.solution()"
   ]
  },
  {
   "cell_type": "markdown",
   "id": "a22d6cd2",
   "metadata": {
    "papermill": {
     "duration": 0.005334,
     "end_time": "2023-03-15T13:06:39.575109",
     "exception": false,
     "start_time": "2023-03-15T13:06:39.569775",
     "status": "completed"
    },
    "tags": []
   },
   "source": [
    "# Keep going\n",
    "\n",
    "Move on to **[renaming and combining](https://www.kaggle.com/residentmario/renaming-and-combining)**."
   ]
  },
  {
   "cell_type": "markdown",
   "id": "c6af783b",
   "metadata": {
    "papermill": {
     "duration": 0.006013,
     "end_time": "2023-03-15T13:06:39.587102",
     "exception": false,
     "start_time": "2023-03-15T13:06:39.581089",
     "status": "completed"
    },
    "tags": []
   },
   "source": [
    "---\n",
    "\n",
    "\n",
    "\n",
    "\n",
    "*Have questions or comments? Visit the [course discussion forum](https://www.kaggle.com/learn/pandas/discussion) to chat with other learners.*"
   ]
  }
 ],
 "metadata": {
  "kernelspec": {
   "display_name": "Python 3",
   "language": "python",
   "name": "python3"
  },
  "language_info": {
   "codemirror_mode": {
    "name": "ipython",
    "version": 3
   },
   "file_extension": ".py",
   "mimetype": "text/x-python",
   "name": "python",
   "nbconvert_exporter": "python",
   "pygments_lexer": "ipython3",
   "version": "3.7.12"
  },
  "papermill": {
   "default_parameters": {},
   "duration": 17.299415,
   "end_time": "2023-03-15T13:06:40.416221",
   "environment_variables": {},
   "exception": null,
   "input_path": "__notebook__.ipynb",
   "output_path": "__notebook__.ipynb",
   "parameters": {},
   "start_time": "2023-03-15T13:06:23.116806",
   "version": "2.4.0"
  }
 },
 "nbformat": 4,
 "nbformat_minor": 5
}
