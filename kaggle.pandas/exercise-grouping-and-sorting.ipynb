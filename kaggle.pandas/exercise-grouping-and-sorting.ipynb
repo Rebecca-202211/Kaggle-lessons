{
 "cells": [
  {
   "cell_type": "markdown",
   "id": "e6e27542",
   "metadata": {
    "papermill": {
     "duration": 0.007573,
     "end_time": "2023-03-14T16:05:25.160924",
     "exception": false,
     "start_time": "2023-03-14T16:05:25.153351",
     "status": "completed"
    },
    "tags": []
   },
   "source": [
    "**This notebook is an exercise in the [Pandas](https://www.kaggle.com/learn/pandas) course.  You can reference the tutorial at [this link](https://www.kaggle.com/residentmario/grouping-and-sorting).**\n",
    "\n",
    "---\n"
   ]
  },
  {
   "cell_type": "markdown",
   "id": "99c9080f",
   "metadata": {
    "papermill": {
     "duration": 0.00599,
     "end_time": "2023-03-14T16:05:25.173369",
     "exception": false,
     "start_time": "2023-03-14T16:05:25.167379",
     "status": "completed"
    },
    "tags": []
   },
   "source": [
    "# Introduction\n",
    "\n",
    "In these exercises we'll apply groupwise analysis to our dataset.\n",
    "\n",
    "Run the code cell below to load the data before running the exercises."
   ]
  },
  {
   "cell_type": "code",
   "execution_count": 1,
   "id": "0dee67aa",
   "metadata": {
    "execution": {
     "iopub.execute_input": "2023-03-14T16:05:25.188727Z",
     "iopub.status.busy": "2023-03-14T16:05:25.187695Z",
     "iopub.status.idle": "2023-03-14T16:05:28.130162Z",
     "shell.execute_reply": "2023-03-14T16:05:28.128787Z"
    },
    "papermill": {
     "duration": 2.953768,
     "end_time": "2023-03-14T16:05:28.133322",
     "exception": false,
     "start_time": "2023-03-14T16:05:25.179554",
     "status": "completed"
    },
    "tags": []
   },
   "outputs": [
    {
     "name": "stdout",
     "output_type": "stream",
     "text": [
      "Setup complete.\n"
     ]
    }
   ],
   "source": [
    "import pandas as pd\n",
    "\n",
    "reviews = pd.read_csv(\"../input/wine-reviews/winemag-data-130k-v2.csv\", index_col=0)\n",
    "#pd.set_option(\"display.max_rows\", 5)\n",
    "\n",
    "from learntools.core import binder; binder.bind(globals())\n",
    "from learntools.pandas.grouping_and_sorting import *\n",
    "print(\"Setup complete.\")"
   ]
  },
  {
   "cell_type": "code",
   "execution_count": 2,
   "id": "4f684e3b",
   "metadata": {
    "execution": {
     "iopub.execute_input": "2023-03-14T16:05:28.147915Z",
     "iopub.status.busy": "2023-03-14T16:05:28.147430Z",
     "iopub.status.idle": "2023-03-14T16:05:28.177766Z",
     "shell.execute_reply": "2023-03-14T16:05:28.176437Z"
    },
    "papermill": {
     "duration": 0.04094,
     "end_time": "2023-03-14T16:05:28.180612",
     "exception": false,
     "start_time": "2023-03-14T16:05:28.139672",
     "status": "completed"
    },
    "tags": []
   },
   "outputs": [
    {
     "data": {
      "text/html": [
       "<div>\n",
       "<style scoped>\n",
       "    .dataframe tbody tr th:only-of-type {\n",
       "        vertical-align: middle;\n",
       "    }\n",
       "\n",
       "    .dataframe tbody tr th {\n",
       "        vertical-align: top;\n",
       "    }\n",
       "\n",
       "    .dataframe thead th {\n",
       "        text-align: right;\n",
       "    }\n",
       "</style>\n",
       "<table border=\"1\" class=\"dataframe\">\n",
       "  <thead>\n",
       "    <tr style=\"text-align: right;\">\n",
       "      <th></th>\n",
       "      <th>country</th>\n",
       "      <th>description</th>\n",
       "      <th>designation</th>\n",
       "      <th>points</th>\n",
       "      <th>price</th>\n",
       "      <th>province</th>\n",
       "      <th>region_1</th>\n",
       "      <th>region_2</th>\n",
       "      <th>taster_name</th>\n",
       "      <th>taster_twitter_handle</th>\n",
       "      <th>title</th>\n",
       "      <th>variety</th>\n",
       "      <th>winery</th>\n",
       "    </tr>\n",
       "  </thead>\n",
       "  <tbody>\n",
       "    <tr>\n",
       "      <th>0</th>\n",
       "      <td>Italy</td>\n",
       "      <td>Aromas include tropical fruit, broom, brimston...</td>\n",
       "      <td>Vulkà Bianco</td>\n",
       "      <td>87</td>\n",
       "      <td>NaN</td>\n",
       "      <td>Sicily &amp; Sardinia</td>\n",
       "      <td>Etna</td>\n",
       "      <td>NaN</td>\n",
       "      <td>Kerin O’Keefe</td>\n",
       "      <td>@kerinokeefe</td>\n",
       "      <td>Nicosia 2013 Vulkà Bianco  (Etna)</td>\n",
       "      <td>White Blend</td>\n",
       "      <td>Nicosia</td>\n",
       "    </tr>\n",
       "    <tr>\n",
       "      <th>1</th>\n",
       "      <td>Portugal</td>\n",
       "      <td>This is ripe and fruity, a wine that is smooth...</td>\n",
       "      <td>Avidagos</td>\n",
       "      <td>87</td>\n",
       "      <td>15.0</td>\n",
       "      <td>Douro</td>\n",
       "      <td>NaN</td>\n",
       "      <td>NaN</td>\n",
       "      <td>Roger Voss</td>\n",
       "      <td>@vossroger</td>\n",
       "      <td>Quinta dos Avidagos 2011 Avidagos Red (Douro)</td>\n",
       "      <td>Portuguese Red</td>\n",
       "      <td>Quinta dos Avidagos</td>\n",
       "    </tr>\n",
       "  </tbody>\n",
       "</table>\n",
       "</div>"
      ],
      "text/plain": [
       "    country                                        description   designation  \\\n",
       "0     Italy  Aromas include tropical fruit, broom, brimston...  Vulkà Bianco   \n",
       "1  Portugal  This is ripe and fruity, a wine that is smooth...      Avidagos   \n",
       "\n",
       "   points  price           province region_1 region_2    taster_name  \\\n",
       "0      87    NaN  Sicily & Sardinia     Etna      NaN  Kerin O’Keefe   \n",
       "1      87   15.0              Douro      NaN      NaN     Roger Voss   \n",
       "\n",
       "  taster_twitter_handle                                          title  \\\n",
       "0          @kerinokeefe              Nicosia 2013 Vulkà Bianco  (Etna)   \n",
       "1            @vossroger  Quinta dos Avidagos 2011 Avidagos Red (Douro)   \n",
       "\n",
       "          variety               winery  \n",
       "0     White Blend              Nicosia  \n",
       "1  Portuguese Red  Quinta dos Avidagos  "
      ]
     },
     "execution_count": 2,
     "metadata": {},
     "output_type": "execute_result"
    }
   ],
   "source": [
    "reviews.head(2)"
   ]
  },
  {
   "cell_type": "markdown",
   "id": "d2f36176",
   "metadata": {
    "papermill": {
     "duration": 0.006326,
     "end_time": "2023-03-14T16:05:28.193873",
     "exception": false,
     "start_time": "2023-03-14T16:05:28.187547",
     "status": "completed"
    },
    "tags": []
   },
   "source": [
    "# Exercises"
   ]
  },
  {
   "cell_type": "markdown",
   "id": "58b651af",
   "metadata": {
    "papermill": {
     "duration": 0.006182,
     "end_time": "2023-03-14T16:05:28.206692",
     "exception": false,
     "start_time": "2023-03-14T16:05:28.200510",
     "status": "completed"
    },
    "tags": []
   },
   "source": [
    "## 1.\n",
    "Who are the most common wine reviewers in the dataset? Create a `Series` whose index is the `taster_twitter_handle` category from the dataset, and whose values count how many reviews each person wrote."
   ]
  },
  {
   "cell_type": "code",
   "execution_count": 3,
   "id": "f43fa371",
   "metadata": {
    "execution": {
     "iopub.execute_input": "2023-03-14T16:05:28.221784Z",
     "iopub.status.busy": "2023-03-14T16:05:28.221296Z",
     "iopub.status.idle": "2023-03-14T16:05:28.253516Z",
     "shell.execute_reply": "2023-03-14T16:05:28.252501Z"
    },
    "papermill": {
     "duration": 0.04303,
     "end_time": "2023-03-14T16:05:28.256301",
     "exception": false,
     "start_time": "2023-03-14T16:05:28.213271",
     "status": "completed"
    },
    "tags": []
   },
   "outputs": [
    {
     "name": "stdout",
     "output_type": "stream",
     "text": [
      "taster_twitter_handle\n",
      "@AnneInVino          3685\n",
      "@JoeCz               5147\n",
      "@bkfiona               27\n",
      "@gordone_cellars     4177\n",
      "@kerinokeefe        10776\n",
      "@laurbuzz            1835\n",
      "@mattkettmann        6332\n",
      "@paulgwine           9532\n",
      "@suskostrzewa        1085\n",
      "@vboone              9537\n",
      "@vossroger          25514\n",
      "@wawinereport        4966\n",
      "@wineschach         15134\n",
      "@winewchristina         6\n",
      "@worldwineguys       1005\n",
      "Name: taster_twitter_handle, dtype: int64\n"
     ]
    },
    {
     "data": {
      "application/javascript": [
       "parent.postMessage({\"jupyterEvent\": \"custom.exercise_interaction\", \"data\": {\"outcomeType\": 1, \"valueTowardsCompletion\": 0.16666666666666666, \"interactionType\": 1, \"questionType\": 1, \"questionId\": \"1_ReviewsWritten\", \"learnToolsVersion\": \"0.3.4\", \"failureMessage\": \"\", \"exceptionClass\": \"\", \"trace\": \"\"}}, \"*\")"
      ],
      "text/plain": [
       "<IPython.core.display.Javascript object>"
      ]
     },
     "metadata": {},
     "output_type": "display_data"
    },
    {
     "data": {
      "text/markdown": [
       "<span style=\"color:#33cc33\">Correct:</span> \n",
       "\n",
       "\n",
       "```python\n",
       "reviews_written = reviews.groupby('taster_twitter_handle').size()\n",
       "```\n",
       "or\n",
       "```python\n",
       "reviews_written = reviews.groupby('taster_twitter_handle').taster_twitter_handle.count()\n",
       "```\n"
      ],
      "text/plain": [
       "Correct: \n",
       "\n",
       "\n",
       "```python\n",
       "reviews_written = reviews.groupby('taster_twitter_handle').size()\n",
       "```\n",
       "or\n",
       "```python\n",
       "reviews_written = reviews.groupby('taster_twitter_handle').taster_twitter_handle.count()\n",
       "```"
      ]
     },
     "metadata": {},
     "output_type": "display_data"
    }
   ],
   "source": [
    "# Your code here\n",
    "reviews_written = reviews.groupby('taster_twitter_handle').taster_twitter_handle.count()\n",
    "print(reviews_written)\n",
    "# Check your answer\n",
    "q1.check()"
   ]
  },
  {
   "cell_type": "code",
   "execution_count": 4,
   "id": "44cbc2cc",
   "metadata": {
    "execution": {
     "iopub.execute_input": "2023-03-14T16:05:28.272269Z",
     "iopub.status.busy": "2023-03-14T16:05:28.271841Z",
     "iopub.status.idle": "2023-03-14T16:05:28.276481Z",
     "shell.execute_reply": "2023-03-14T16:05:28.275222Z"
    },
    "papermill": {
     "duration": 0.015611,
     "end_time": "2023-03-14T16:05:28.278921",
     "exception": false,
     "start_time": "2023-03-14T16:05:28.263310",
     "status": "completed"
    },
    "tags": []
   },
   "outputs": [],
   "source": [
    "# q1.hint()\n",
    "# q1.solution()"
   ]
  },
  {
   "cell_type": "markdown",
   "id": "e13d15b9",
   "metadata": {
    "papermill": {
     "duration": 0.006522,
     "end_time": "2023-03-14T16:05:28.292304",
     "exception": false,
     "start_time": "2023-03-14T16:05:28.285782",
     "status": "completed"
    },
    "tags": []
   },
   "source": [
    "## 2.\n",
    "What is the best wine I can buy for a given amount of money? Create a `Series` whose index is wine prices and whose values is the maximum number of points a wine costing that much was given in a review. Sort the values by price, ascending (so that `4.0` dollars is at the top and `3300.0` dollars is at the bottom)."
   ]
  },
  {
   "cell_type": "code",
   "execution_count": 5,
   "id": "c862f560",
   "metadata": {
    "execution": {
     "iopub.execute_input": "2023-03-14T16:05:28.308136Z",
     "iopub.status.busy": "2023-03-14T16:05:28.307676Z",
     "iopub.status.idle": "2023-03-14T16:05:28.326751Z",
     "shell.execute_reply": "2023-03-14T16:05:28.325280Z"
    },
    "papermill": {
     "duration": 0.029919,
     "end_time": "2023-03-14T16:05:28.329252",
     "exception": false,
     "start_time": "2023-03-14T16:05:28.299333",
     "status": "completed"
    },
    "tags": []
   },
   "outputs": [
    {
     "name": "stdout",
     "output_type": "stream",
     "text": [
      "price\n",
      "4.0       86\n",
      "5.0       87\n",
      "6.0       88\n",
      "7.0       91\n",
      "8.0       91\n",
      "          ..\n",
      "1900.0    98\n",
      "2000.0    97\n",
      "2013.0    91\n",
      "2500.0    96\n",
      "3300.0    88\n",
      "Name: points, Length: 390, dtype: int64\n"
     ]
    },
    {
     "data": {
      "application/javascript": [
       "parent.postMessage({\"jupyterEvent\": \"custom.exercise_interaction\", \"data\": {\"outcomeType\": 1, \"valueTowardsCompletion\": 0.16666666666666666, \"interactionType\": 1, \"questionType\": 1, \"questionId\": \"2_BestRatingPerPrice\", \"learnToolsVersion\": \"0.3.4\", \"failureMessage\": \"\", \"exceptionClass\": \"\", \"trace\": \"\"}}, \"*\")"
      ],
      "text/plain": [
       "<IPython.core.display.Javascript object>"
      ]
     },
     "metadata": {},
     "output_type": "display_data"
    },
    {
     "data": {
      "text/markdown": [
       "<span style=\"color:#33cc33\">Correct</span>"
      ],
      "text/plain": [
       "Correct"
      ]
     },
     "metadata": {},
     "output_type": "display_data"
    }
   ],
   "source": [
    "best_rating_per_price = reviews.groupby('price').points.max().sort_index()\n",
    "print(best_rating_per_price)\n",
    "# Check your answer\n",
    "q2.check()"
   ]
  },
  {
   "cell_type": "code",
   "execution_count": 6,
   "id": "8a7f2c3a",
   "metadata": {
    "execution": {
     "iopub.execute_input": "2023-03-14T16:05:28.346046Z",
     "iopub.status.busy": "2023-03-14T16:05:28.345595Z",
     "iopub.status.idle": "2023-03-14T16:05:28.351081Z",
     "shell.execute_reply": "2023-03-14T16:05:28.349566Z"
    },
    "papermill": {
     "duration": 0.017042,
     "end_time": "2023-03-14T16:05:28.353883",
     "exception": false,
     "start_time": "2023-03-14T16:05:28.336841",
     "status": "completed"
    },
    "tags": []
   },
   "outputs": [],
   "source": [
    "#q2.hint()\n",
    "# q2.solution()"
   ]
  },
  {
   "cell_type": "code",
   "execution_count": 7,
   "id": "986ac508",
   "metadata": {
    "execution": {
     "iopub.execute_input": "2023-03-14T16:05:28.372183Z",
     "iopub.status.busy": "2023-03-14T16:05:28.371681Z",
     "iopub.status.idle": "2023-03-14T16:05:28.379796Z",
     "shell.execute_reply": "2023-03-14T16:05:28.378405Z"
    },
    "papermill": {
     "duration": 0.019783,
     "end_time": "2023-03-14T16:05:28.382376",
     "exception": false,
     "start_time": "2023-03-14T16:05:28.362593",
     "status": "completed"
    },
    "tags": []
   },
   "outputs": [
    {
     "data": {
      "text/plain": [
       "Index(['country', 'description', 'designation', 'points', 'price', 'province',\n",
       "       'region_1', 'region_2', 'taster_name', 'taster_twitter_handle', 'title',\n",
       "       'variety', 'winery'],\n",
       "      dtype='object')"
      ]
     },
     "execution_count": 7,
     "metadata": {},
     "output_type": "execute_result"
    }
   ],
   "source": [
    "reviews.columns"
   ]
  },
  {
   "cell_type": "markdown",
   "id": "85ec2136",
   "metadata": {
    "papermill": {
     "duration": 0.007217,
     "end_time": "2023-03-14T16:05:28.397164",
     "exception": false,
     "start_time": "2023-03-14T16:05:28.389947",
     "status": "completed"
    },
    "tags": []
   },
   "source": [
    "## 3.\n",
    "What are the minimum and maximum prices for each `variety` of wine? Create a `DataFrame` whose index is the `variety` category from the dataset and whose values are the `min` and `max` values thereof."
   ]
  },
  {
   "cell_type": "code",
   "execution_count": 8,
   "id": "5a96ea5f",
   "metadata": {
    "execution": {
     "iopub.execute_input": "2023-03-14T16:05:28.414792Z",
     "iopub.status.busy": "2023-03-14T16:05:28.413518Z",
     "iopub.status.idle": "2023-03-14T16:05:28.447338Z",
     "shell.execute_reply": "2023-03-14T16:05:28.446029Z"
    },
    "papermill": {
     "duration": 0.045197,
     "end_time": "2023-03-14T16:05:28.449905",
     "exception": false,
     "start_time": "2023-03-14T16:05:28.404708",
     "status": "completed"
    },
    "tags": []
   },
   "outputs": [
    {
     "name": "stdout",
     "output_type": "stream",
     "text": [
      "              min    max\n",
      "variety                 \n",
      "Abouriou     15.0   75.0\n",
      "Agiorgitiko  10.0   66.0\n",
      "Aglianico     6.0  180.0\n",
      "Aidani       27.0   27.0\n",
      "Airen         8.0   10.0\n",
      "...           ...    ...\n",
      "Zinfandel     5.0  100.0\n",
      "Zlahtina     13.0   16.0\n",
      "Zweigelt      9.0   70.0\n",
      "Çalkarası    19.0   19.0\n",
      "Žilavka      15.0   15.0\n",
      "\n",
      "[707 rows x 2 columns]\n"
     ]
    },
    {
     "data": {
      "application/javascript": [
       "parent.postMessage({\"jupyterEvent\": \"custom.exercise_interaction\", \"data\": {\"outcomeType\": 1, \"valueTowardsCompletion\": 0.16666666666666666, \"interactionType\": 1, \"questionType\": 1, \"questionId\": \"3_PriceExtremes\", \"learnToolsVersion\": \"0.3.4\", \"failureMessage\": \"\", \"exceptionClass\": \"\", \"trace\": \"\"}}, \"*\")"
      ],
      "text/plain": [
       "<IPython.core.display.Javascript object>"
      ]
     },
     "metadata": {},
     "output_type": "display_data"
    },
    {
     "data": {
      "text/markdown": [
       "<span style=\"color:#33cc33\">Correct</span>"
      ],
      "text/plain": [
       "Correct"
      ]
     },
     "metadata": {},
     "output_type": "display_data"
    }
   ],
   "source": [
    "price_extremes = pd.DataFrame(reviews.groupby('variety').price.agg([min,max]))\n",
    "print(price_extremes)\n",
    "# Check your answer\n",
    "q3.check()"
   ]
  },
  {
   "cell_type": "code",
   "execution_count": 9,
   "id": "0eddab72",
   "metadata": {
    "execution": {
     "iopub.execute_input": "2023-03-14T16:05:28.466843Z",
     "iopub.status.busy": "2023-03-14T16:05:28.466389Z",
     "iopub.status.idle": "2023-03-14T16:05:28.471826Z",
     "shell.execute_reply": "2023-03-14T16:05:28.470315Z"
    },
    "papermill": {
     "duration": 0.017228,
     "end_time": "2023-03-14T16:05:28.474670",
     "exception": false,
     "start_time": "2023-03-14T16:05:28.457442",
     "status": "completed"
    },
    "tags": []
   },
   "outputs": [],
   "source": [
    "#q3.hint()\n",
    "# q3.solution()"
   ]
  },
  {
   "cell_type": "markdown",
   "id": "658e43a8",
   "metadata": {
    "papermill": {
     "duration": 0.007459,
     "end_time": "2023-03-14T16:05:28.490071",
     "exception": false,
     "start_time": "2023-03-14T16:05:28.482612",
     "status": "completed"
    },
    "tags": []
   },
   "source": [
    "## 4.\n",
    "What are the most expensive wine varieties? Create a variable `sorted_varieties` containing a copy of the dataframe from the previous question where varieties are sorted in descending order based on minimum price, then on maximum price (to break ties)."
   ]
  },
  {
   "cell_type": "code",
   "execution_count": 10,
   "id": "37701440",
   "metadata": {
    "execution": {
     "iopub.execute_input": "2023-03-14T16:05:28.507348Z",
     "iopub.status.busy": "2023-03-14T16:05:28.506882Z",
     "iopub.status.idle": "2023-03-14T16:05:28.518813Z",
     "shell.execute_reply": "2023-03-14T16:05:28.517652Z"
    },
    "papermill": {
     "duration": 0.023318,
     "end_time": "2023-03-14T16:05:28.521096",
     "exception": false,
     "start_time": "2023-03-14T16:05:28.497778",
     "status": "completed"
    },
    "tags": []
   },
   "outputs": [
    {
     "data": {
      "application/javascript": [
       "parent.postMessage({\"jupyterEvent\": \"custom.exercise_interaction\", \"data\": {\"outcomeType\": 1, \"valueTowardsCompletion\": 0.16666666666666666, \"interactionType\": 1, \"questionType\": 1, \"questionId\": \"4_SortedVarieties\", \"learnToolsVersion\": \"0.3.4\", \"failureMessage\": \"\", \"exceptionClass\": \"\", \"trace\": \"\"}}, \"*\")"
      ],
      "text/plain": [
       "<IPython.core.display.Javascript object>"
      ]
     },
     "metadata": {},
     "output_type": "display_data"
    },
    {
     "data": {
      "text/markdown": [
       "<span style=\"color:#33cc33\">Correct</span>"
      ],
      "text/plain": [
       "Correct"
      ]
     },
     "metadata": {},
     "output_type": "display_data"
    }
   ],
   "source": [
    "sorted_varieties = price_extremes.copy().sort_values(by = ['min','max'],ascending = False)\n",
    "\n",
    "# Check your answer\n",
    "q4.check()"
   ]
  },
  {
   "cell_type": "code",
   "execution_count": 11,
   "id": "38098998",
   "metadata": {
    "execution": {
     "iopub.execute_input": "2023-03-14T16:05:28.539777Z",
     "iopub.status.busy": "2023-03-14T16:05:28.538407Z",
     "iopub.status.idle": "2023-03-14T16:05:28.543476Z",
     "shell.execute_reply": "2023-03-14T16:05:28.542450Z"
    },
    "papermill": {
     "duration": 0.016626,
     "end_time": "2023-03-14T16:05:28.545730",
     "exception": false,
     "start_time": "2023-03-14T16:05:28.529104",
     "status": "completed"
    },
    "tags": []
   },
   "outputs": [],
   "source": [
    "#q4.hint()\n",
    "#q4.solution()"
   ]
  },
  {
   "cell_type": "markdown",
   "id": "d01fb24d",
   "metadata": {
    "papermill": {
     "duration": 0.007605,
     "end_time": "2023-03-14T16:05:28.561291",
     "exception": false,
     "start_time": "2023-03-14T16:05:28.553686",
     "status": "completed"
    },
    "tags": []
   },
   "source": [
    "## 5.\n",
    "Create a `Series` whose index is reviewers and whose values is the average review score given out by that reviewer. Hint: you will need the `taster_name` and `points` columns."
   ]
  },
  {
   "cell_type": "code",
   "execution_count": 12,
   "id": "7d820b4d",
   "metadata": {
    "execution": {
     "iopub.execute_input": "2023-03-14T16:05:28.579024Z",
     "iopub.status.busy": "2023-03-14T16:05:28.578185Z",
     "iopub.status.idle": "2023-03-14T16:05:28.602504Z",
     "shell.execute_reply": "2023-03-14T16:05:28.600957Z"
    },
    "papermill": {
     "duration": 0.035792,
     "end_time": "2023-03-14T16:05:28.604909",
     "exception": false,
     "start_time": "2023-03-14T16:05:28.569117",
     "status": "completed"
    },
    "tags": []
   },
   "outputs": [
    {
     "name": "stdout",
     "output_type": "stream",
     "text": [
      "taster_name\n",
      "Alexander Peartree    85.855422\n",
      "Anna Lee C. Iijima    88.415629\n",
      "Anne Krebiehl MW      90.562551\n",
      "Carrie Dykes          86.395683\n",
      "Christina Pickard     87.833333\n",
      "Fiona Adams           86.888889\n",
      "Jeff Jenssen          88.319756\n",
      "Jim Gordon            88.626287\n",
      "Joe Czerwinski        88.536235\n",
      "Kerin O’Keefe         88.867947\n",
      "Lauren Buzzeo         87.739510\n",
      "Matt Kettmann         90.008686\n",
      "Michael Schachner     86.907493\n",
      "Mike DeSimone         89.101167\n",
      "Paul Gregutt          89.082564\n",
      "Roger Voss            88.708003\n",
      "Sean P. Sullivan      88.755739\n",
      "Susan Kostrzewa       86.609217\n",
      "Virginie Boone        89.213379\n",
      "Name: points, dtype: float64\n"
     ]
    },
    {
     "data": {
      "application/javascript": [
       "parent.postMessage({\"jupyterEvent\": \"custom.exercise_interaction\", \"data\": {\"outcomeType\": 1, \"valueTowardsCompletion\": 0.16666666666666666, \"interactionType\": 1, \"questionType\": 1, \"questionId\": \"5_ReviewerMeanRatings\", \"learnToolsVersion\": \"0.3.4\", \"failureMessage\": \"\", \"exceptionClass\": \"\", \"trace\": \"\"}}, \"*\")"
      ],
      "text/plain": [
       "<IPython.core.display.Javascript object>"
      ]
     },
     "metadata": {},
     "output_type": "display_data"
    },
    {
     "data": {
      "text/markdown": [
       "<span style=\"color:#33cc33\">Correct</span>"
      ],
      "text/plain": [
       "Correct"
      ]
     },
     "metadata": {},
     "output_type": "display_data"
    }
   ],
   "source": [
    "reviewer_mean_ratings = reviews.groupby('taster_name').points.mean()\n",
    "print(reviewer_mean_ratings)\n",
    "# Check your answer\n",
    "q5.check()"
   ]
  },
  {
   "cell_type": "code",
   "execution_count": 13,
   "id": "5b14c79b",
   "metadata": {
    "execution": {
     "iopub.execute_input": "2023-03-14T16:05:28.623433Z",
     "iopub.status.busy": "2023-03-14T16:05:28.622505Z",
     "iopub.status.idle": "2023-03-14T16:05:28.627410Z",
     "shell.execute_reply": "2023-03-14T16:05:28.626263Z"
    },
    "papermill": {
     "duration": 0.016744,
     "end_time": "2023-03-14T16:05:28.629782",
     "exception": false,
     "start_time": "2023-03-14T16:05:28.613038",
     "status": "completed"
    },
    "tags": []
   },
   "outputs": [],
   "source": [
    "#q5.hint()\n",
    "#q5.solution()"
   ]
  },
  {
   "cell_type": "markdown",
   "id": "290d3e4a",
   "metadata": {
    "papermill": {
     "duration": 0.008548,
     "end_time": "2023-03-14T16:05:28.646485",
     "exception": false,
     "start_time": "2023-03-14T16:05:28.637937",
     "status": "completed"
    },
    "tags": []
   },
   "source": [
    "Are there significant differences in the average scores assigned by the various reviewers? Run the cell below to use the `describe()` method to see a summary of the range of values."
   ]
  },
  {
   "cell_type": "code",
   "execution_count": 14,
   "id": "a9ba3c0b",
   "metadata": {
    "execution": {
     "iopub.execute_input": "2023-03-14T16:05:28.665065Z",
     "iopub.status.busy": "2023-03-14T16:05:28.664570Z",
     "iopub.status.idle": "2023-03-14T16:05:28.676754Z",
     "shell.execute_reply": "2023-03-14T16:05:28.675624Z"
    },
    "papermill": {
     "duration": 0.024709,
     "end_time": "2023-03-14T16:05:28.679338",
     "exception": false,
     "start_time": "2023-03-14T16:05:28.654629",
     "status": "completed"
    },
    "tags": []
   },
   "outputs": [
    {
     "data": {
      "text/plain": [
       "count    19.000000\n",
       "mean     88.233026\n",
       "std       1.243610\n",
       "min      85.855422\n",
       "25%      87.323501\n",
       "50%      88.536235\n",
       "75%      88.975256\n",
       "max      90.562551\n",
       "Name: points, dtype: float64"
      ]
     },
     "execution_count": 14,
     "metadata": {},
     "output_type": "execute_result"
    }
   ],
   "source": [
    "reviewer_mean_ratings.describe()"
   ]
  },
  {
   "cell_type": "markdown",
   "id": "e53cb97d",
   "metadata": {
    "papermill": {
     "duration": 0.008052,
     "end_time": "2023-03-14T16:05:28.695930",
     "exception": false,
     "start_time": "2023-03-14T16:05:28.687878",
     "status": "completed"
    },
    "tags": []
   },
   "source": [
    "## 6.\n",
    "What combination of countries and varieties are most common? Create a `Series` whose index is a `MultiIndex`of `{country, variety}` pairs. For example, a pinot noir produced in the US should map to `{\"US\", \"Pinot Noir\"}`. Sort the values in the `Series` in descending order based on wine count."
   ]
  },
  {
   "cell_type": "code",
   "execution_count": 15,
   "id": "f69c9225",
   "metadata": {
    "execution": {
     "iopub.execute_input": "2023-03-14T16:05:28.714828Z",
     "iopub.status.busy": "2023-03-14T16:05:28.713987Z",
     "iopub.status.idle": "2023-03-14T16:05:28.760234Z",
     "shell.execute_reply": "2023-03-14T16:05:28.759028Z"
    },
    "papermill": {
     "duration": 0.058277,
     "end_time": "2023-03-14T16:05:28.762526",
     "exception": false,
     "start_time": "2023-03-14T16:05:28.704249",
     "status": "completed"
    },
    "tags": []
   },
   "outputs": [
    {
     "data": {
      "application/javascript": [
       "parent.postMessage({\"jupyterEvent\": \"custom.exercise_interaction\", \"data\": {\"outcomeType\": 1, \"valueTowardsCompletion\": 0.16666666666666666, \"interactionType\": 1, \"questionType\": 1, \"questionId\": \"6_GroupbyCountryVariety\", \"learnToolsVersion\": \"0.3.4\", \"failureMessage\": \"\", \"exceptionClass\": \"\", \"trace\": \"\"}}, \"*\")"
      ],
      "text/plain": [
       "<IPython.core.display.Javascript object>"
      ]
     },
     "metadata": {},
     "output_type": "display_data"
    },
    {
     "data": {
      "text/markdown": [
       "<span style=\"color:#33cc33\">Correct</span>"
      ],
      "text/plain": [
       "Correct"
      ]
     },
     "metadata": {},
     "output_type": "display_data"
    }
   ],
   "source": [
    "country_variety_counts = reviews.groupby(['country','variety']).winery.count().sort_values(ascending = False)\n",
    "\n",
    "# Check your answer\n",
    "q6.check()"
   ]
  },
  {
   "cell_type": "code",
   "execution_count": 16,
   "id": "f1ee430e",
   "metadata": {
    "execution": {
     "iopub.execute_input": "2023-03-14T16:05:28.782149Z",
     "iopub.status.busy": "2023-03-14T16:05:28.781613Z",
     "iopub.status.idle": "2023-03-14T16:05:28.786552Z",
     "shell.execute_reply": "2023-03-14T16:05:28.785493Z"
    },
    "papermill": {
     "duration": 0.017761,
     "end_time": "2023-03-14T16:05:28.789119",
     "exception": false,
     "start_time": "2023-03-14T16:05:28.771358",
     "status": "completed"
    },
    "tags": []
   },
   "outputs": [],
   "source": [
    "#q6.hint()\n",
    "#q6.solution()"
   ]
  },
  {
   "cell_type": "markdown",
   "id": "27c5e757",
   "metadata": {
    "papermill": {
     "duration": 0.008526,
     "end_time": "2023-03-14T16:05:28.806609",
     "exception": false,
     "start_time": "2023-03-14T16:05:28.798083",
     "status": "completed"
    },
    "tags": []
   },
   "source": [
    "# Keep going\n",
    "\n",
    "Move on to the [**data types and missing data**](https://www.kaggle.com/residentmario/data-types-and-missing-values)."
   ]
  },
  {
   "cell_type": "markdown",
   "id": "1e1a4bf6",
   "metadata": {
    "papermill": {
     "duration": 0.008505,
     "end_time": "2023-03-14T16:05:28.823949",
     "exception": false,
     "start_time": "2023-03-14T16:05:28.815444",
     "status": "completed"
    },
    "tags": []
   },
   "source": [
    "---\n",
    "\n",
    "\n",
    "\n",
    "\n",
    "*Have questions or comments? Visit the [course discussion forum](https://www.kaggle.com/learn/pandas/discussion) to chat with other learners.*"
   ]
  }
 ],
 "metadata": {
  "kernelspec": {
   "display_name": "Python 3",
   "language": "python",
   "name": "python3"
  },
  "language_info": {
   "codemirror_mode": {
    "name": "ipython",
    "version": 3
   },
   "file_extension": ".py",
   "mimetype": "text/x-python",
   "name": "python",
   "nbconvert_exporter": "python",
   "pygments_lexer": "ipython3",
   "version": "3.7.12"
  },
  "papermill": {
   "default_parameters": {},
   "duration": 14.945719,
   "end_time": "2023-03-14T16:05:29.557870",
   "environment_variables": {},
   "exception": null,
   "input_path": "__notebook__.ipynb",
   "output_path": "__notebook__.ipynb",
   "parameters": {},
   "start_time": "2023-03-14T16:05:14.612151",
   "version": "2.4.0"
  }
 },
 "nbformat": 4,
 "nbformat_minor": 5
}
